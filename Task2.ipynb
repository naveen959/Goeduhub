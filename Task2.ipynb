{
  "nbformat": 4,
  "nbformat_minor": 0,
  "metadata": {
    "colab": {
      "name": "Task2.ipynb",
      "provenance": [],
      "authorship_tag": "ABX9TyNvw9kozL7Tps9Ohlwkfjkw",
      "include_colab_link": true
    },
    "kernelspec": {
      "name": "python3",
      "display_name": "Python 3"
    },
    "language_info": {
      "name": "python"
    }
  },
  "cells": [
    {
      "cell_type": "markdown",
      "metadata": {
        "id": "view-in-github",
        "colab_type": "text"
      },
      "source": [
        "<a href=\"https://colab.research.google.com/github/naveen959/Goeduhub/blob/main/Task2.ipynb\" target=\"_parent\"><img src=\"https://colab.research.google.com/assets/colab-badge.svg\" alt=\"Open In Colab\"/></a>"
      ]
    },
    {
      "cell_type": "markdown",
      "metadata": {
        "id": "nz644LRer9yf"
      },
      "source": [
        "#**Task 2**\n",
        "**Name - T. Naveen**\n",
        "\n",
        "**Reg no. - GO_STP_13234**"
      ]
    },
    {
      "cell_type": "markdown",
      "metadata": {
        "id": "E8Vvo8NIsQlc"
      },
      "source": [
        "Q1. Is a list mutable?\n",
        "\n",
        "Ans: Yes, lists are mutable"
      ]
    },
    {
      "cell_type": "markdown",
      "metadata": {
        "id": "yUsHiP5fs9z3"
      },
      "source": [
        "Q2. Does a list need to be homogeneous?\n",
        "\n",
        "Ans: Lists can be either homogeneous or heterogeneous. "
      ]
    },
    {
      "cell_type": "markdown",
      "metadata": {
        "id": "yk8rbyz7tOsw"
      },
      "source": [
        "Q3. What is the difference between a list and a tuple?\n",
        "\n",
        "Ans: The main difference between a list and a tuple is that lists are mutable while tuples are immutable. A list has a variable size while a tuple has a fixed size. "
      ]
    },
    {
      "cell_type": "markdown",
      "metadata": {
        "id": "ZtFywaqmtWOG"
      },
      "source": [
        "Q4. How to find the number of elements in the list?\n",
        "\n",
        "Ans: The most straightforward way to get the number of elements in a list is to use the Python built-in function len(). "
      ]
    },
    {
      "cell_type": "markdown",
      "metadata": {
        "id": "voEQX37Ttm-x"
      },
      "source": [
        "Q5. How to check whether the list is empty or not?\n",
        "\n",
        "Ans: Using the len() function on a given list we can check to find if it equals to 0. "
      ]
    },
    {
      "cell_type": "markdown",
      "metadata": {
        "id": "TfGGfF1Jtw5b"
      },
      "source": [
        "Q6. How to find the first and last element of the list?\n",
        "\n",
        "Ans: In any list the first element is assigned index value 0 and the last element can be considered as a value -1. So we apply these index values to the list directly and get the desired result."
      ]
    },
    {
      "cell_type": "markdown",
      "metadata": {
        "id": "Ubfhn6ePt4V1"
      },
      "source": [
        "Q7. How to find the largest and lowest value in the list?\n",
        "\n",
        "Ans: The min() and max() functions in Python return the lowest and largest values in a List. "
      ]
    },
    {
      "cell_type": "markdown",
      "metadata": {
        "id": "dWDSkzI7uAZn"
      },
      "source": [
        "Q8. How to access elements of the list?\n",
        "\n",
        "Ans: To access elements of the list, we can use the square brackets for slicing along with the index or indices to obtain value available at that index. "
      ]
    },
    {
      "cell_type": "markdown",
      "metadata": {
        "id": "hT3idiBuuH2A"
      },
      "source": [
        "Q9. Remove elements in a list before a specific index\n",
        "\n",
        "Ans: To remove an item at specified index or position from a List, we can use pop () method of List class with index provided as argument."
      ]
    },
    {
      "cell_type": "markdown",
      "metadata": {
        "id": "eabONEf-uap-"
      },
      "source": [
        "Q10. Remove elements in a list between 2 indices\n",
        "\n",
        "Ans: Let us take the following example:\n",
        "\n",
        "list_1 = [10,20,30,44,55,78]\n",
        "\n",
        "del list_1[2:5] print(list_1)\n",
        "\n",
        "This will give us output as:\n",
        "\n",
        "[10, 20, 78]"
      ]
    },
    {
      "cell_type": "markdown",
      "metadata": {
        "id": "XzvGxbAuuuuu"
      },
      "source": [
        "Q11. Return every 2nd element in a list between 2 indices\n",
        "\n",
        "Ans:  Let us take an example:\n",
        "\n",
        "list_1 = [10,20,85,78,41,15,12]\n",
        "\n",
        "list_1[1:5:2]\n",
        "\n",
        "This will give us an output like:\n",
        "\n",
        "[20, 78] "
      ]
    },
    {
      "cell_type": "markdown",
      "metadata": {
        "id": "A8z40u6bu3bW"
      },
      "source": [
        "Q12. Get the first element from each nested list in a list\n",
        "\n",
        "Ans: Let us take an example:\n",
        "\n",
        "nested_list = [[10,20,30],[40,50,60],[12,14,15]]\n",
        "\n",
        "The following code snippet will give us the result:\n",
        "\n",
        "for l in nested_list:\n",
        "\n",
        "print(l[0],end=\" \")\n",
        "\n",
        "output:10 40 12"
      ]
    },
    {
      "cell_type": "markdown",
      "metadata": {
        "id": "_QmDSQwku_OD"
      },
      "source": [
        "Q13. How to modify elements of the list?\n",
        "\n",
        "Ans: To change a list element we use, list name followed by the index position inside the square brackets ([]), and then provide the new value using the Equal sign. "
      ]
    },
    {
      "cell_type": "markdown",
      "metadata": {
        "id": "WVt8DRaavFw4"
      },
      "source": [
        "Q14. How to concatenate two lists?\n",
        "\n",
        "Ans: The most conventional method to perform the list concatenation is the use of “+” operator that can easily add the whole of one list behind the other list and hence perform the concatenation."
      ]
    },
    {
      "cell_type": "markdown",
      "metadata": {
        "id": "Kkjplod3vLHo"
      },
      "source": [
        "Q15. How to add two lists element-wise in python?\n",
        "\n",
        "Ans: We can explain this with an example:\n",
        "\n",
        "list1 = [1, 2, 3]\n",
        "\n",
        "list2=[4,5,6] sum_list=[]\n",
        "\n",
        "for (item1, item2) in zip(list1, list2): sum_list.append(item1+item2)\n",
        "\n",
        "print(sum_list)\n",
        "\n",
        "Output:[5, 7, 9]"
      ]
    },
    {
      "cell_type": "markdown",
      "metadata": {
        "id": "-51VTFvIvRSJ"
      },
      "source": [
        "Q16. Difference between del and clear.\n",
        "\n",
        "Ans: Clear () function delete all the keys and values in the dictionary and leave the dictionary empty. While del <dict> , delete the complete dictionary; and when we want to find the deleted dictionary then it will give an error that <dict> is not defined."
      ]
    },
    {
      "cell_type": "markdown",
      "metadata": {
        "id": "GjxLotchvcPx"
      },
      "source": [
        "Q17. Difference between remove and pop.\n",
        "\n",
        "Ans: Remove() deletes the matching element from the list whereas pop removes the element present at specified index."
      ]
    },
    {
      "cell_type": "markdown",
      "metadata": {
        "id": "T3XSyviLwDOy"
      },
      "source": [
        "Q18. Difference between append and extend.\n",
        "\n",
        "Ans: append() adds a single element to the end of the list whereas extend() can add multiple individual elements to the end of the list. "
      ]
    },
    {
      "cell_type": "markdown",
      "metadata": {
        "id": "7Az6OpD-wJHL"
      },
      "source": [
        "Q19. Difference between indexing and Slicing.\n",
        "\n",
        "Ans: “Indexing” means referring to an element of an iterable by its position within the iterable. “Slicing” means getting a subset of elements from an iterable based on their indices. "
      ]
    },
    {
      "cell_type": "markdown",
      "metadata": {
        "id": "6BOShI_kwO8H"
      },
      "source": [
        "Q.20 Difference between sort and sorted.\n",
        "\n",
        "Ans: The primary difference between the list sort() function and the sorted() function is that the sort() function will modify the list it is called on. The sorted() function will create a new list containing a sorted version of the list it is given. The sorted() function will not modify the list passed as a parameter."
      ]
    },
    {
      "cell_type": "markdown",
      "metadata": {
        "id": "7eDuuBNowU0F"
      },
      "source": [
        "Q.21 Difference between reverse and reversed.\n",
        "\n",
        "Ans: reverse() actually reverses the elements in the container. reversed() doesn't actually reverse anything, it merely returns an object that can be used to iterate over the container's elements in reverse order."
      ]
    },
    {
      "cell_type": "markdown",
      "metadata": {
        "id": "NHzlmd3Cwa5A"
      },
      "source": [
        "Q22. Difference between copy and deep copy.\n",
        "\n",
        "Ans: In Python, we use =operator to create a copy of an object. It doesn't create a new object. It only creates a new variable that shares the reference of the original object. A deep copy creates a new object and recursively adds the copies of nested objects present in the original elements. If we make changes to any nested objects in original object old_list, we’ll see no changes to the copy new_list."
      ]
    },
    {
      "cell_type": "markdown",
      "metadata": {
        "id": "S8fxOhWLwl63"
      },
      "source": [
        "Q23. How to remove duplicate elements in the list?\n",
        "\n",
        "Ans: Using set data structure we can remove duplicate elements in the list."
      ]
    },
    {
      "cell_type": "markdown",
      "metadata": {
        "id": "OQ33ZcDdwsMS"
      },
      "source": [
        "Q24. How to find an index of an element in the python list?\n",
        "\n",
        "Ans: The index() method returns the index of the specified element in the list."
      ]
    },
    {
      "cell_type": "markdown",
      "metadata": {
        "id": "XTF6RXTowzfQ"
      },
      "source": [
        "Q25. How to find the occurrences of an element in the python list?\n",
        "\n",
        "Ans: count() method helps to find the occurrences of an element in the python list."
      ]
    },
    {
      "cell_type": "markdown",
      "metadata": {
        "id": "Cht984uYw6EK"
      },
      "source": [
        "Q26. How to insert an item at a given position?\n",
        "\n",
        "Ans: insert() is an inbuilt function in Python that inserts a given element at a given index in a list."
      ]
    },
    {
      "cell_type": "markdown",
      "metadata": {
        "id": "yIpT1LrhxBx8"
      },
      "source": [
        "Q27. How to check if an item is in the list?\n",
        "\n",
        "Ans: Python “in” is the most conventional way to check if an element exists in a list or not. This particular way returns True if the element exists in the list and False if the element does not exist in the list"
      ]
    },
    {
      "cell_type": "markdown",
      "metadata": {
        "id": "dwm6uOhwxGiw"
      },
      "source": [
        "Q28. How to flatten a list in python?\n",
        "\n",
        "Ans: The task of flattening can also be performed by using built-in functions that Python offers i.e sum(). The function has two parameters:”iterable” which is a list of lists and “start” which is an empty list that serves as the initial flat list to which items of the inner sublists are added."
      ]
    },
    {
      "cell_type": "markdown",
      "metadata": {
        "id": "MUV2RFi0xL4h"
      },
      "source": [
        "Q29. How to convert python list to other data structures like set, tuple, dictionary?\n",
        "\n",
        "Ans: Typecasting to tuple can be done by simply using tuple(list_name). Typecasting to set can be done by simply using set(list_name).To convert a list to a dictionary, we can use list comprehension and make a key:value pair of consecutive elements. Finally, type case the list to dict type."
      ]
    },
    {
      "cell_type": "markdown",
      "metadata": {
        "id": "2T9De_ETxRvX"
      },
      "source": [
        "Q30. How to apply a function to all items in the list?\n",
        "\n",
        "Ans: Using map() method we can apply a function to all the elements in the list. map() methods take two arguments: “iterables” and “functions” and return a map object. We use list() to convert the map object to a list."
      ]
    },
    {
      "cell_type": "markdown",
      "metadata": {
        "id": "vQ24kKrGxauH"
      },
      "source": [
        "Q31. How to filter the elements based on a function in a pythonlist?\n",
        "\n",
        "Ans: Python has a built-in function called filter() that allows you to filter a list in a more beautiful way. The filter() function iterates over the elements of the list and applies the fn() function to each element. It returns an iterator for the elements where the fn() returns True. "
      ]
    },
    {
      "cell_type": "markdown",
      "metadata": {
        "id": "AcDhPvA8xjJl"
      },
      "source": [
        "Q32. How python lists are stored in memory?\n",
        "\n",
        "Ans: Python lists store references (\"pointers\") to the objects. The list object consists of two internal parts; one object header, and one separately allocated array of object references. The latter is reallocated as necessary."
      ]
    }
  ]
}