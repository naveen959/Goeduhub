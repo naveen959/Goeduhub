{
  "nbformat": 4,
  "nbformat_minor": 0,
  "metadata": {
    "colab": {
      "name": "Task3.ipynb",
      "provenance": [],
      "collapsed_sections": [],
      "authorship_tag": "ABX9TyOZr8mJLYwFqpUO/aIeW1d3",
      "include_colab_link": true
    },
    "kernelspec": {
      "name": "python3",
      "display_name": "Python 3"
    },
    "language_info": {
      "name": "python"
    }
  },
  "cells": [
    {
      "cell_type": "markdown",
      "metadata": {
        "id": "view-in-github",
        "colab_type": "text"
      },
      "source": [
        "<a href=\"https://colab.research.google.com/github/naveen959/Goeduhub/blob/main/Task3.ipynb\" target=\"_parent\"><img src=\"https://colab.research.google.com/assets/colab-badge.svg\" alt=\"Open In Colab\"/></a>"
      ]
    },
    {
      "cell_type": "markdown",
      "metadata": {
        "id": "9o1vyifQ0V-M"
      },
      "source": [
        "# **Task 3**\n",
        "\n",
        "**Name - T. Naveen**\n",
        "\n",
        "**Reg no. - GO_STP_13234**"
      ]
    },
    {
      "cell_type": "markdown",
      "metadata": {
        "id": "XzWICvVk7zse"
      },
      "source": [
        "Questions on dictionary:-"
      ]
    },
    {
      "cell_type": "markdown",
      "metadata": {
        "id": "hVNZUGEq003d"
      },
      "source": [
        "Q1. Write a Python Program to sort (ascending and descending) a dictionary by value."
      ]
    },
    {
      "cell_type": "code",
      "metadata": {
        "colab": {
          "base_uri": "https://localhost:8080/",
          "height": 0
        },
        "id": "JiktqLJE06CV",
        "outputId": "eb02caa4-8277-4c11-e468-78569350e100"
      },
      "source": [
        "import operator\n",
        "\n",
        "x = {1:2,3:4,4:3,2:1,0:0}\n",
        "print('Original dictionary: ',x)\n",
        "\n",
        "l=sorted(x.items(), key=operator.itemgetter(1))\n",
        "print('Ascending order of dictionary is: ',l)\n",
        "\n",
        "l=sorted(x.items(), key=operator.itemgetter(1), reverse=True)\n",
        "print('Descending order of dictionary is: ',l)"
      ],
      "execution_count": 23,
      "outputs": [
        {
          "output_type": "stream",
          "text": [
            "Original dictionary:  {1: 2, 3: 4, 4: 3, 2: 1, 0: 0}\n",
            "Ascending order of dictionary is:  [(0, 0), (2, 1), (1, 2), (4, 3), (3, 4)]\n",
            "Descending order of dictionary is:  [(3, 4), (4, 3), (1, 2), (2, 1), (0, 0)]\n"
          ],
          "name": "stdout"
        }
      ]
    },
    {
      "cell_type": "markdown",
      "metadata": {
        "id": "SyaZ_LQN7VQl"
      },
      "source": [
        "Q.2 Write a Python Program to add a key to a dictionary. \n",
        "\n",
        "Sample Dictionary : {0: 10, 1: 20}\n",
        "\n",
        "Expected Result : {0: 10, 1: 20, 2: 30}"
      ]
    },
    {
      "cell_type": "code",
      "metadata": {
        "colab": {
          "base_uri": "https://localhost:8080/",
          "height": 0
        },
        "id": "YxjfjsZI7Yd8",
        "outputId": "8720d5de-55ea-4308-aba9-07b0a7c2ae3b"
      },
      "source": [
        "d = {0:10, 1:20}\n",
        "d[2] = 30\n",
        "print(d)"
      ],
      "execution_count": 24,
      "outputs": [
        {
          "output_type": "stream",
          "text": [
            "{0: 10, 1: 20, 2: 30}\n"
          ],
          "name": "stdout"
        }
      ]
    },
    {
      "cell_type": "markdown",
      "metadata": {
        "id": "3XdJt1nI7qft"
      },
      "source": [
        "Q.3 Write a  program asks for City name and Temperature and builds a dictionary using that Later on you can input City name and it will tell you the Temperature of that City."
      ]
    },
    {
      "cell_type": "code",
      "metadata": {
        "colab": {
          "base_uri": "https://localhost:8080/",
          "height": 0
        },
        "id": "28dxDqDp79qC",
        "outputId": "e75083e1-d5fc-4e92-b30a-e521ac4602a7"
      },
      "source": [
        "d={}\n",
        "d['New Delhi'] = 38\n",
        "d['Mumbai'] = 35\n",
        "d['Chennai'] = 40\n",
        "d['Kolkata'] = 36\n",
        "d['Bangalore'] = 32\n",
        "d['Ahmedabad'] = 42\n",
        "d['Srinagar'] = 22\n",
        "print(d)\n",
        "\n",
        "city = input('Enter a city name: ')\n",
        "if city in d:\n",
        "  print('The temperature in',city,'is',d[city])\n",
        "else:\n",
        "  print('The city is not in the dictionary')  "
      ],
      "execution_count": 25,
      "outputs": [
        {
          "output_type": "stream",
          "text": [
            "{'New Delhi': 38, 'Mumbai': 35, 'Chennai': 40, 'Kolkata': 36, 'Bangalore': 32, 'Ahmedabad': 42, 'Srinagar': 22}\n",
            "Enter a city name: Kolkata\n",
            "The temperature in Kolkata is 36\n"
          ],
          "name": "stdout"
        }
      ]
    },
    {
      "cell_type": "markdown",
      "metadata": {
        "id": "xFjgxcasAe2y"
      },
      "source": [
        "Q.4 Write a Python program to convert list to list of dictionaries.\n",
        "\n",
        "Sample lists: [\"Black\", \"Red\", \"Maroon\", \"Yellow\"], [\"#000000\", \"#FF0000\", \"#800000\", \"#FFFF00\"]\n",
        "\n",
        "Expected Output: [{'color_name': 'Black', 'color_code': '#000000'}, {'color_name': 'Red', 'color_code': '#FF0000'}, {'color_name': 'Maroon', 'color_code': '#800000'}, {'color_name': 'Yellow', 'color_code': '#FFFF00'}]"
      ]
    },
    {
      "cell_type": "code",
      "metadata": {
        "colab": {
          "base_uri": "https://localhost:8080/",
          "height": 0
        },
        "id": "6Z8_XA7lCQ5d",
        "outputId": "0098e5d8-1ef9-40b6-86da-1c3b4805bb8a"
      },
      "source": [
        "color_name = [\"Black\",\"Red\",\"Maroon\",\"Yellow\"]\n",
        "color_code = [\"#000000\", \"#FF0000\", \"#800000\", \"#FFFF00\"]\n",
        "\n",
        "print([{'color_name':n,'color_code':c} for n,c in zip(color_name,color_code)])"
      ],
      "execution_count": 26,
      "outputs": [
        {
          "output_type": "stream",
          "text": [
            "[{'color_name': 'Black', 'color_code': '#000000'}, {'color_name': 'Red', 'color_code': '#FF0000'}, {'color_name': 'Maroon', 'color_code': '#800000'}, {'color_name': 'Yellow', 'color_code': '#FFFF00'}]\n"
          ],
          "name": "stdout"
        }
      ]
    },
    {
      "cell_type": "markdown",
      "metadata": {
        "id": "ClYSwOsFD0js"
      },
      "source": [
        "Q. 5 We have following information on Employees and their Salary (Salary is in lakhs),\n",
        "\n",
        "Employee\tSalary\n",
        "John\t14\n",
        "Smith\t13\n",
        "Alice\t32\n",
        "Daneil\t21\n",
        "\n",
        "Using above create a dictionary of Employees and their Salary\n",
        "Write a program that asks user for three type of inputs,\n",
        "\n",
        "print: if user enter print then it should print all Employees with their Salary in this format,\n",
        "John ==>14\n",
        "Smith ==>13\n",
        "Alice ==>32\n",
        "Daneil ==>21\n",
        "\n",
        "add: if user input adds then it should further ask for an Employee name to add. If Employee already exists in our dataset then it should print that it exists and do nothing. If it doesn't then it asks for Salary and add that new Employee/Salary in our dictionary and print it\n",
        "\n",
        "remove: when user inputs remove it should ask for an Employee to remove. If an Employee exists in our dictionary then remove it and print a new dictionary using format shown above in (a). Else print that Employee doesn't exist!\n",
        "\n",
        "query: on this again ask the user for which Employee he or she wants to query. When a user inputs that Employee it will print the Salary of that Employee."
      ]
    },
    {
      "cell_type": "code",
      "metadata": {
        "colab": {
          "base_uri": "https://localhost:8080/",
          "height": 0
        },
        "id": "lAi6wRKbFIRw",
        "outputId": "588f6ca8-7da6-4f43-e2a6-3680e9d76c60"
      },
      "source": [
        "d={}\n",
        "d['John'] = 14\n",
        "d['Smith'] = 13\n",
        "d['Alice'] = 32\n",
        "d['Daneil'] = 21\n",
        "print(d)\n",
        "dict.items(d)\n",
        "\n",
        "name = input('Enter an employee name: ')\n",
        "if name in d:\n",
        "  print('Already exists')\n",
        "else:\n",
        "  salary = input('Enter salary: ')\n",
        "d[name] = salary\n",
        "print(d)\n",
        "\n",
        "name = input('Enter an employee name: ')\n",
        "if name in d:\n",
        "  d.pop(name)\n",
        "  print(d)\n",
        "else:\n",
        "  print(\"Employee doesn't exist\")\n",
        "\n",
        "name = input('Enter an employee name: ')\n",
        "if name in d:\n",
        "  print('The salary of ',name,'is: ',d[name])\n",
        "else:\n",
        "  print('Not found')  "
      ],
      "execution_count": 27,
      "outputs": [
        {
          "output_type": "stream",
          "text": [
            "{'John': 14, 'Smith': 13, 'Alice': 32, 'Daneil': 21}\n",
            "Enter an employee name: Naveen\n",
            "Enter salary: 25\n",
            "{'John': 14, 'Smith': 13, 'Alice': 32, 'Daneil': 21, 'Naveen': '25'}\n",
            "Enter an employee name: Alice\n",
            "{'John': 14, 'Smith': 13, 'Daneil': 21, 'Naveen': '25'}\n",
            "Enter an employee name: Smith\n",
            "The salary of  Smith is:  13\n"
          ],
          "name": "stdout"
        }
      ]
    },
    {
      "cell_type": "markdown",
      "metadata": {
        "id": "XtooSHYBKaiA"
      },
      "source": [
        "Questions on Sets-"
      ]
    },
    {
      "cell_type": "markdown",
      "metadata": {
        "id": "R6M4Q4ZnKeAv"
      },
      "source": [
        "Q.1 What is the difference between a set and a frozenset? Create any set and try to use frozenset(setname)."
      ]
    },
    {
      "cell_type": "markdown",
      "metadata": {
        "id": "yXu_KcoIZCGy"
      },
      "source": [
        "Frozen set is just an immutable version of a Python set object. While elements of a set can be modified at any time, elements of the frozen set remain the same after creation.\n",
        "\n",
        "Due to this, frozen sets can be used as keys in Dictionary or as elements of another set. But like sets, it is not ordered"
      ]
    },
    {
      "cell_type": "code",
      "metadata": {
        "colab": {
          "base_uri": "https://localhost:8080/",
          "height": 0
        },
        "id": "bFNcSEQrZUVy",
        "outputId": "818cbd3f-6a16-4a6e-ee1f-8fe7ff4a397a"
      },
      "source": [
        "my_set = {'a','b','c','d'}\n",
        "print(my_set)\n",
        "my_set.add('e')\n",
        "print(my_set)\n",
        "\n",
        "fset = frozenset(my_set)\n",
        "print('The frozen set is: ',fset)"
      ],
      "execution_count": 28,
      "outputs": [
        {
          "output_type": "stream",
          "text": [
            "{'a', 'c', 'b', 'd'}\n",
            "{'c', 'd', 'a', 'e', 'b'}\n",
            "The frozen set is:  frozenset({'c', 'b', 'd', 'a', 'e'})\n"
          ],
          "name": "stdout"
        }
      ]
    },
    {
      "cell_type": "markdown",
      "metadata": {
        "id": "FAUWyAyua0rF"
      },
      "source": [
        "Q.2 Find the elements in a given set that are not in another set\n",
        "\n",
        "    set1 = {10,20,30,40,50}\n",
        "\n",
        "    set2 = {40,50,60,70,80}\n",
        "\n",
        " Difference between set1 and set2 is {10,20,30}"
      ]
    },
    {
      "cell_type": "code",
      "metadata": {
        "colab": {
          "base_uri": "https://localhost:8080/",
          "height": 0
        },
        "id": "j_QwFNVIbAgW",
        "outputId": "643aa8bf-63aa-4513-bbbd-273a12383732"
      },
      "source": [
        "set1 = {10,20,30,40,50}\n",
        "set2 = {40,50,60,70,80}\n",
        "\n",
        "set3 = set1.symmetric_difference(set2)\n",
        "print('Elements in a given set that are not in another set: ',set3)\n",
        "\n",
        "set4 = set1 - set2\n",
        "print('Difference between set1 and set2 is ',set4)"
      ],
      "execution_count": 29,
      "outputs": [
        {
          "output_type": "stream",
          "text": [
            "Elements in a given set that are not in another set:  {80, 20, 70, 10, 60, 30}\n",
            "Difference between set1 and set2 is  {10, 20, 30}\n"
          ],
          "name": "stdout"
        }
      ]
    }
  ]
}