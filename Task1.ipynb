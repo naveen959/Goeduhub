{
  "nbformat": 4,
  "nbformat_minor": 0,
  "metadata": {
    "colab": {
      "name": "Task1.ipynb",
      "provenance": [],
      "collapsed_sections": []
    },
    "kernelspec": {
      "name": "python3",
      "display_name": "Python 3"
    },
    "language_info": {
      "name": "python"
    }
  },
  "cells": [
    {
      "cell_type": "markdown",
      "metadata": {
        "id": "RXcnxl3CDQJl"
      },
      "source": [
        "# **Task 1** \n",
        "**Name - T Naveen**\n",
        "\n",
        "**Reg no - GO_STP_13234**\n",
        "\n",
        "**Date - 22/05/2021**\n"
      ]
    },
    {
      "cell_type": "markdown",
      "metadata": {
        "id": "6fXoqUlQEL-U"
      },
      "source": [
        "1.We are having 3 list like this\n",
        "\n",
        "Colors = [“Yellow”,”Green”,”White”,”Black”]\n",
        "\n",
        "Fruits=[“Apple”,”Papaya”,”Mango”,”Orange”]\n",
        "\n",
        "Animals=[“Tiger”,”Lion”,”Deer”,”Zebra”]\n",
        "\n",
        " "
      ]
    },
    {
      "cell_type": "markdown",
      "metadata": {
        "id": "PCWKBVe4EaqM"
      },
      "source": [
        "i. Write a program that asks user to enter a Color/Fruit/Animal name and it should tell which category belongs to , like its is a fruit or color or Animal"
      ]
    },
    {
      "cell_type": "code",
      "metadata": {
        "colab": {
          "base_uri": "https://localhost:8080/"
        },
        "id": "teIR2-TGEjGL",
        "outputId": "b9fa3077-a589-42d8-f1bf-14738cd6c5c2"
      },
      "source": [
        "Colors = ['Yellow', 'Green', 'White', 'Black']\n",
        "Fruits = ['Apple', 'Papaya', 'Mango', 'Orange']\n",
        "Animals = ['Tiger', 'Lion', 'Deer', 'Zebra']\n",
        "name = input('Enter the name of color/fruit/animal name: ')\n",
        "\n",
        "if name in Colors:\n",
        "  Category = 'Color'\n",
        "elif name in Fruits:\n",
        "  Category = 'Fruit'\n",
        "elif name in Animals:\n",
        "  Category = 'Animal'\n",
        "else:\n",
        "  Category = 'null'\n",
        "  \n",
        "print('Category: ', Category)        "
      ],
      "execution_count": 1,
      "outputs": [
        {
          "output_type": "stream",
          "text": [
            "Enter the name of color/fruit/animal name: Mango\n",
            "Category:  Fruit\n"
          ],
          "name": "stdout"
        }
      ]
    },
    {
      "cell_type": "markdown",
      "metadata": {
        "id": "nwuvAQSPGjrn"
      },
      "source": [
        "ii. Write a program that asks user to enter two items and it tells you if they both are in same category or not. For example if I enter yellow and Black, it will print \"Both are colors\" but if I enter yellow and Tiger it should print \"They don't belong to same category\""
      ]
    },
    {
      "cell_type": "code",
      "metadata": {
        "colab": {
          "base_uri": "https://localhost:8080/"
        },
        "id": "XzFWipASGs6G",
        "outputId": "af71701d-bd38-4f3b-a797-0abf2dc36bf7"
      },
      "source": [
        "Colors = ['Yellow', 'Green', 'White', 'Black']\n",
        "Fruits = ['Apple', 'Papaya', 'Mango', 'Orange']\n",
        "Animals = ['Tiger', 'Lion', 'Deer', 'Zebra']\n",
        "name_1=input('enter 1st name : ')\n",
        "name_2=input('enter 2nd name : ')\n",
        "\n",
        "if name_1 in Colors and name_2 in Colors:\n",
        " category='both are Colors'\n",
        "elif name_1 in Fruits and name_2 in Fruits:\n",
        " category='both are Fruits'\n",
        "elif name_1 in Animals and name_2 in Animals:\n",
        " category ='both are Animals'\n",
        "else:\n",
        " category='They donot belong to same category'\n",
        " \n",
        "print('category:',category)"
      ],
      "execution_count": 2,
      "outputs": [
        {
          "output_type": "stream",
          "text": [
            "enter 1st name : Apple\n",
            "enter 2nd name : Zebra\n",
            "category: They donot belong to same category\n"
          ],
          "name": "stdout"
        }
      ]
    },
    {
      "cell_type": "markdown",
      "metadata": {
        "id": "hsw4XjNHHF6j"
      },
      "source": [
        "Write a python program that can tell you if your grade score good or not . Normal Score range is 40 to 60.\n",
        "i. Ask user to enter his score.\n",
        "\n",
        "ii. If it is below 40 to 60 range then print that score is low\n",
        "\n",
        "iii. If it is above 60 then print that it is good otherwise print that it is normal"
      ]
    },
    {
      "cell_type": "code",
      "metadata": {
        "colab": {
          "base_uri": "https://localhost:8080/"
        },
        "id": "umUw6uRrHXis",
        "outputId": "937f1a59-9f1e-470b-f01c-49564ad9e908"
      },
      "source": [
        "score = int(input('Enter your score: '))\n",
        "if score>=60:\n",
        "  print('Score is good')\n",
        "elif score>40 and score<60:\n",
        "  print('Score is normal') \n",
        "else:\n",
        "  print('Score is low')"
      ],
      "execution_count": 4,
      "outputs": [
        {
          "output_type": "stream",
          "text": [
            "Enter your score: 58\n",
            "Score is normal\n"
          ],
          "name": "stdout"
        }
      ]
    },
    {
      "cell_type": "markdown",
      "metadata": {
        "id": "TT3ts_PhI72y"
      },
      "source": [
        "3.After appearing in exam 10 times you got this result,\n",
        "\n",
        "result = [\"Pass\",\"Fail\",\"Fail\",\"Pass\",\"Fail\",\"Pass\",\"Pass\",\"Fail\",\"Fail\",\"Fail\"]\n",
        "\n",
        "Using for loop figure out how many times you got Pass"
      ]
    },
    {
      "cell_type": "code",
      "metadata": {
        "colab": {
          "base_uri": "https://localhost:8080/"
        },
        "id": "tfHMJ-ETJJyi",
        "outputId": "384ea4a6-19f9-4d5c-f4de-27521814b237"
      },
      "source": [
        "result = ['Pass','Fail','Fail','Pass','Fail','Pass','Pass','Fail','Fail','Fail']\n",
        "count = 0\n",
        "for n in result:\n",
        "  if n=='Pass':\n",
        "    count = count+1\n",
        "print(count)  "
      ],
      "execution_count": 6,
      "outputs": [
        {
          "output_type": "stream",
          "text": [
            "4\n"
          ],
          "name": "stdout"
        }
      ]
    },
    {
      "cell_type": "markdown",
      "metadata": {
        "id": "g0TXhQBcKYio"
      },
      "source": [
        "4.Write a program that prints following shape\n",
        "\n"
      ]
    },
    {
      "cell_type": "code",
      "metadata": {
        "colab": {
          "base_uri": "https://localhost:8080/"
        },
        "id": "Ytkzk6RAKfpO",
        "outputId": "406d62c8-0545-4f53-aed5-7b5b630174fa"
      },
      "source": [
        "for i in range(5):\n",
        "  for j in range(i):\n",
        "    print(\"*\",end=\"\")\n",
        "  print()\n",
        "for i in range(5,0,-1):\n",
        "  for j in range(i):\n",
        "    print(\"*\",end=\"\")\n",
        "  print()"
      ],
      "execution_count": 7,
      "outputs": [
        {
          "output_type": "stream",
          "text": [
            "\n",
            "*\n",
            "**\n",
            "***\n",
            "****\n",
            "*****\n",
            "****\n",
            "***\n",
            "**\n",
            "*\n"
          ],
          "name": "stdout"
        }
      ]
    },
    {
      "cell_type": "markdown",
      "metadata": {
        "id": "VHk17cVjK_km"
      },
      "source": [
        "5.Lets say you are running a 50 km race. Write a program that,\n",
        "\n",
        "Upon completing each 10 km asks you \"are you tired?\"\n",
        "\n",
        "If you reply \"yes\" then it should break and print \"you didn't finish the race\"\n",
        "\n",
        "If you reply \"no\" then it should continue and ask \"are you tired\" on every km\n",
        "\n",
        "If you finish all 50 km then it should print congratulations message"
      ]
    },
    {
      "cell_type": "code",
      "metadata": {
        "colab": {
          "base_uri": "https://localhost:8080/"
        },
        "id": "6X1u4euULGK5",
        "outputId": "10fedc14-2337-40a7-e75f-416255b1405f"
      },
      "source": [
        "for i in range (1,51):\n",
        "  if i%10 == 0:\n",
        "    n = input('Are you tired: ')\n",
        "    if n == 'YES':\n",
        "      print('You did not finish the race.')\n",
        "      break\n",
        "if i==50:\n",
        "  print('Congratulations! You won the race.')"
      ],
      "execution_count": 10,
      "outputs": [
        {
          "output_type": "stream",
          "text": [
            "Are you tired: no\n",
            "Are you tired: no\n",
            "Are you tired: YES\n",
            "You did not finish the race.\n"
          ],
          "name": "stdout"
        }
      ]
    },
    {
      "cell_type": "markdown",
      "metadata": {
        "id": "vO63WOJZNIye"
      },
      "source": [
        "6.Write a Python program to find those numbers which are divisible by 7 and multiple of 5, between 1500 and 2700 (both included)."
      ]
    },
    {
      "cell_type": "code",
      "metadata": {
        "colab": {
          "base_uri": "https://localhost:8080/"
        },
        "id": "xxFPhaoWNJ59",
        "outputId": "676f8f30-83e3-4477-844b-1cc40291b7fc"
      },
      "source": [
        "for i in range (1500,2701):\n",
        "  if i%5 == 0 and i%7 == 0:\n",
        "    print(i,end = ' ')"
      ],
      "execution_count": 12,
      "outputs": [
        {
          "output_type": "stream",
          "text": [
            "1505 1540 1575 1610 1645 1680 1715 1750 1785 1820 1855 1890 1925 1960 1995 2030 2065 2100 2135 2170 2205 2240 2275 2310 2345 2380 2415 2450 2485 2520 2555 2590 2625 2660 2695 "
          ],
          "name": "stdout"
        }
      ]
    },
    {
      "cell_type": "markdown",
      "metadata": {
        "id": "Mq_HV7YnOGJS"
      },
      "source": [
        "7.Print square of all numbers between 10 to 20 except even numbers"
      ]
    },
    {
      "cell_type": "code",
      "metadata": {
        "colab": {
          "base_uri": "https://localhost:8080/"
        },
        "id": "jPtrUy-xOKf6",
        "outputId": "e89d585c-2bf4-4b82-9f16-29c02a75813f"
      },
      "source": [
        "for i in range(10,21):\n",
        "  if i%2 == 1:\n",
        "    print(i**2, end=' ')"
      ],
      "execution_count": 14,
      "outputs": [
        {
          "output_type": "stream",
          "text": [
            "121 169 225 289 361 "
          ],
          "name": "stdout"
        }
      ]
    },
    {
      "cell_type": "markdown",
      "metadata": {
        "id": "OQOw6ItUOcvB"
      },
      "source": [
        "8.Your Marks for five Test(test1 to test5) looks like this,\n",
        "\n",
        "marks_list = [65, 75, 2100, 95, 83]\n",
        "\n",
        "Write a program that asks you to enter marks and program should tell you in which test that marks occurred. If marks is not found then it should print that as well."
      ]
    },
    {
      "cell_type": "code",
      "metadata": {
        "colab": {
          "base_uri": "https://localhost:8080/"
        },
        "id": "TvjajknyOjLE",
        "outputId": "7b49898b-e611-4ebf-eef9-ca7329867d71"
      },
      "source": [
        "marks_list = [65,75,2100,95,83]\n",
        "n = int(input('Enter marks: '))\n",
        "test = marks_list.index(n)+1\n",
        "if n not in marks_list:\n",
        "  print('Marks not found')\n",
        "else:\n",
        "  print('You got',n,'marks in test',test)  "
      ],
      "execution_count": 18,
      "outputs": [
        {
          "output_type": "stream",
          "text": [
            "Enter marks: 75\n",
            "You got 75 marks in test 2\n"
          ],
          "name": "stdout"
        }
      ]
    }
  ]
}