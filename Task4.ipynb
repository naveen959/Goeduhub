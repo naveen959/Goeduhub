{
  "nbformat": 4,
  "nbformat_minor": 0,
  "metadata": {
    "colab": {
      "name": "Task4.ipynb",
      "provenance": [],
      "collapsed_sections": [],
      "authorship_tag": "ABX9TyOoAVrVpoYktsMOit3K5yAX",
      "include_colab_link": true
    },
    "kernelspec": {
      "name": "python3",
      "display_name": "Python 3"
    },
    "language_info": {
      "name": "python"
    }
  },
  "cells": [
    {
      "cell_type": "markdown",
      "metadata": {
        "id": "view-in-github",
        "colab_type": "text"
      },
      "source": [
        "<a href=\"https://colab.research.google.com/github/naveen959/Goeduhub/blob/main/Task4.ipynb\" target=\"_parent\"><img src=\"https://colab.research.google.com/assets/colab-badge.svg\" alt=\"Open In Colab\"/></a>"
      ]
    },
    {
      "cell_type": "markdown",
      "metadata": {
        "id": "mvInV_xN8u9w"
      },
      "source": [
        "# **Task 4**\n",
        "**Name - T. Naveen**\n",
        "\n",
        "**Reg no. - 13234**"
      ]
    },
    {
      "cell_type": "markdown",
      "metadata": {
        "id": "W5EnpH4p89UI"
      },
      "source": [
        "Q1. Import the numpy package under the name np and Print the numpy version and the configuration"
      ]
    },
    {
      "cell_type": "code",
      "metadata": {
        "colab": {
          "base_uri": "https://localhost:8080/"
        },
        "id": "Yhr7vzTl8biG",
        "outputId": "a0058b7e-a9c5-4d2f-f620-87479ceb1e71"
      },
      "source": [
        "import numpy as np\n",
        "print(np.__version__)\n",
        "print(np.show_config())"
      ],
      "execution_count": 19,
      "outputs": [
        {
          "output_type": "stream",
          "text": [
            "1.19.5\n",
            "blas_mkl_info:\n",
            "  NOT AVAILABLE\n",
            "blis_info:\n",
            "  NOT AVAILABLE\n",
            "openblas_info:\n",
            "    libraries = ['openblas', 'openblas']\n",
            "    library_dirs = ['/usr/local/lib']\n",
            "    language = c\n",
            "    define_macros = [('HAVE_CBLAS', None)]\n",
            "blas_opt_info:\n",
            "    libraries = ['openblas', 'openblas']\n",
            "    library_dirs = ['/usr/local/lib']\n",
            "    language = c\n",
            "    define_macros = [('HAVE_CBLAS', None)]\n",
            "lapack_mkl_info:\n",
            "  NOT AVAILABLE\n",
            "openblas_lapack_info:\n",
            "    libraries = ['openblas', 'openblas']\n",
            "    library_dirs = ['/usr/local/lib']\n",
            "    language = c\n",
            "    define_macros = [('HAVE_CBLAS', None)]\n",
            "lapack_opt_info:\n",
            "    libraries = ['openblas', 'openblas']\n",
            "    library_dirs = ['/usr/local/lib']\n",
            "    language = c\n",
            "    define_macros = [('HAVE_CBLAS', None)]\n",
            "None\n"
          ],
          "name": "stdout"
        }
      ]
    },
    {
      "cell_type": "markdown",
      "metadata": {
        "id": "TJj-RZdJ_Az9"
      },
      "source": [
        "Q2. Create a null vector of size 10"
      ]
    },
    {
      "cell_type": "code",
      "metadata": {
        "colab": {
          "base_uri": "https://localhost:8080/"
        },
        "id": "-pWVbZDP_C5f",
        "outputId": "069d6cd3-fde1-430e-87ed-8e75315239ae"
      },
      "source": [
        "x = np.zeros(10)\n",
        "print(x)"
      ],
      "execution_count": null,
      "outputs": [
        {
          "output_type": "stream",
          "text": [
            "[0. 0. 0. 0. 0. 0. 0. 0. 0. 0.]\n"
          ],
          "name": "stdout"
        }
      ]
    },
    {
      "cell_type": "markdown",
      "metadata": {
        "id": "nefj0KdM_aDr"
      },
      "source": [
        "Q3. Create Simple 1-D array and check type and check data types in array"
      ]
    },
    {
      "cell_type": "code",
      "metadata": {
        "colab": {
          "base_uri": "https://localhost:8080/"
        },
        "id": "IQqirLca_b3A",
        "outputId": "9e6b17cd-2e14-407d-9376-f8e6c208d1ec"
      },
      "source": [
        "a = np.array([10,20,30])\n",
        "print(a)\n",
        "print(a.dtype)"
      ],
      "execution_count": null,
      "outputs": [
        {
          "output_type": "stream",
          "text": [
            "[10 20 30]\n",
            "int64\n"
          ],
          "name": "stdout"
        }
      ]
    },
    {
      "cell_type": "markdown",
      "metadata": {
        "id": "OkRWCf4y_80m"
      },
      "source": [
        "Q4. How to find number of dimensions, bytes per element and bytes of memory used?"
      ]
    },
    {
      "cell_type": "code",
      "metadata": {
        "colab": {
          "base_uri": "https://localhost:8080/"
        },
        "id": "EDTajvOm_rSf",
        "outputId": "40efd501-a5e4-4f60-df3e-00c73bf9f52d"
      },
      "source": [
        "import sys\n",
        "y = np.array([1,2,3,4,5,6])\n",
        "print('Dimension of array is: ',y.size)\n",
        "print('Bytes per element is: ',y.itemsize)\n",
        "print('Bytes of memory used: ',y.nbytes)"
      ],
      "execution_count": null,
      "outputs": [
        {
          "output_type": "stream",
          "text": [
            "Dimension of array is:  6\n",
            "Bytes per element is:  8\n",
            "Bytes of memory used:  48\n"
          ],
          "name": "stdout"
        }
      ]
    },
    {
      "cell_type": "markdown",
      "metadata": {
        "id": "S9Q_doBcCC_h"
      },
      "source": [
        "Q5. Create a null vector of size 10 but the fifth value which is 1"
      ]
    },
    {
      "cell_type": "code",
      "metadata": {
        "colab": {
          "base_uri": "https://localhost:8080/"
        },
        "id": "LKOmU5LDCIfG",
        "outputId": "5ded6143-14cb-48f5-c535-142a3dec7366"
      },
      "source": [
        "x = np.zeros(10)\n",
        "print(x)\n",
        "print('Update fifth value to 1')\n",
        "x[5]=1\n",
        "print(x)"
      ],
      "execution_count": null,
      "outputs": [
        {
          "output_type": "stream",
          "text": [
            "[0. 0. 0. 0. 0. 0. 0. 0. 0. 0.]\n",
            "Update fifth value to 1\n",
            "[0. 0. 0. 0. 0. 1. 0. 0. 0. 0.]\n"
          ],
          "name": "stdout"
        }
      ]
    },
    {
      "cell_type": "markdown",
      "metadata": {
        "id": "3f_CQ93bCgct"
      },
      "source": [
        "Q6. Create a vector with values ranging from 10 to 49"
      ]
    },
    {
      "cell_type": "code",
      "metadata": {
        "colab": {
          "base_uri": "https://localhost:8080/"
        },
        "id": "qydk21VSCklF",
        "outputId": "4149a2b7-e01a-47c7-c33b-4bdbfba5ff8c"
      },
      "source": [
        "z = np.arange(10,49)\n",
        "print(z)"
      ],
      "execution_count": null,
      "outputs": [
        {
          "output_type": "stream",
          "text": [
            "[10 11 12 13 14 15 16 17 18 19 20 21 22 23 24 25 26 27 28 29 30 31 32 33\n",
            " 34 35 36 37 38 39 40 41 42 43 44 45 46 47 48]\n"
          ],
          "name": "stdout"
        }
      ]
    },
    {
      "cell_type": "markdown",
      "metadata": {
        "id": "bLC3ZBiqDbIT"
      },
      "source": [
        "Q7. Reverse a vector (first element becomes last)"
      ]
    },
    {
      "cell_type": "code",
      "metadata": {
        "colab": {
          "base_uri": "https://localhost:8080/"
        },
        "id": "44mP8XKVDnMy",
        "outputId": "27c49e1e-9f92-41e1-ab3d-05e65cd6fc87"
      },
      "source": [
        "m = np.arange(0,10)\n",
        "print('Original vector: ',m)\n",
        "m = m[::-1]\n",
        "print('Reverse vector: ',m)\n"
      ],
      "execution_count": null,
      "outputs": [
        {
          "output_type": "stream",
          "text": [
            "Original vector:  [0 1 2 3 4 5 6 7 8 9]\n",
            "Reverse vector:  [9 8 7 6 5 4 3 2 1 0]\n"
          ],
          "name": "stdout"
        }
      ]
    },
    {
      "cell_type": "markdown",
      "metadata": {
        "id": "nv8iEyK4EquW"
      },
      "source": [
        "Q8. Create a 3x3 matrix with values ranging from 0 to 8"
      ]
    },
    {
      "cell_type": "code",
      "metadata": {
        "colab": {
          "base_uri": "https://localhost:8080/"
        },
        "id": "ALYJcJsWEusz",
        "outputId": "e44f6829-1f2d-4ceb-be78-97ff300928c2"
      },
      "source": [
        "t = np.arange(0,9).reshape(3,3)\n",
        "print(t)"
      ],
      "execution_count": null,
      "outputs": [
        {
          "output_type": "stream",
          "text": [
            "[[0 1 2]\n",
            " [3 4 5]\n",
            " [6 7 8]]\n"
          ],
          "name": "stdout"
        }
      ]
    },
    {
      "cell_type": "markdown",
      "metadata": {
        "id": "Vn_xVJIeFHPA"
      },
      "source": [
        "Q9. Find indices of non-zero elements from [1,2,0,0,4,0]"
      ]
    },
    {
      "cell_type": "code",
      "metadata": {
        "colab": {
          "base_uri": "https://localhost:8080/"
        },
        "id": "0WbeOeHtFLbG",
        "outputId": "066d4960-2407-4714-83c2-0c08111d01f3"
      },
      "source": [
        "n = [1,2,0,0,4,0]\n",
        "print('Indices of non-zero elements are: ',np.nonzero(n))"
      ],
      "execution_count": null,
      "outputs": [
        {
          "output_type": "stream",
          "text": [
            "Indices of non-zero elements are:  (array([0, 1, 4]),)\n"
          ],
          "name": "stdout"
        }
      ]
    },
    {
      "cell_type": "markdown",
      "metadata": {
        "id": "hpBdfB8oFvlc"
      },
      "source": [
        "Q10. Create a 3x3 identity matrix"
      ]
    },
    {
      "cell_type": "code",
      "metadata": {
        "colab": {
          "base_uri": "https://localhost:8080/"
        },
        "id": "Xnolk4YUFz8M",
        "outputId": "21bb24d2-9f3f-4057-a4e4-23435f622d03"
      },
      "source": [
        "i = np.identity(3)\n",
        "print(i)"
      ],
      "execution_count": null,
      "outputs": [
        {
          "output_type": "stream",
          "text": [
            "[[1. 0. 0.]\n",
            " [0. 1. 0.]\n",
            " [0. 0. 1.]]\n"
          ],
          "name": "stdout"
        }
      ]
    },
    {
      "cell_type": "markdown",
      "metadata": {
        "id": "7RnqbfOsGSyv"
      },
      "source": [
        "Q11. Create a 3x3x3 array with random values"
      ]
    },
    {
      "cell_type": "code",
      "metadata": {
        "colab": {
          "base_uri": "https://localhost:8080/"
        },
        "id": "xYdQ5KWCGYAm",
        "outputId": "a0678cca-aa00-427d-f832-cd8d23f1b295"
      },
      "source": [
        "x = np.random.random((3,3,3))\n",
        "print(x)"
      ],
      "execution_count": null,
      "outputs": [
        {
          "output_type": "stream",
          "text": [
            "[[[0.67444679 0.53401142 0.95634293]\n",
            "  [0.12295371 0.97642316 0.65040927]\n",
            "  [0.21241406 0.44176028 0.61371857]]\n",
            "\n",
            " [[0.78978281 0.37815179 0.1432698 ]\n",
            "  [0.2428302  0.07639738 0.08397845]\n",
            "  [0.11181601 0.74692441 0.6618957 ]]\n",
            "\n",
            " [[0.04545506 0.15217793 0.79499799]\n",
            "  [0.56934415 0.03209348 0.96384397]\n",
            "  [0.30131136 0.71422179 0.5170828 ]]]\n"
          ],
          "name": "stdout"
        }
      ]
    },
    {
      "cell_type": "markdown",
      "metadata": {
        "id": "ZtTHrIFvGzvy"
      },
      "source": [
        "Q12. Create a 10x10 array with random values and find the minimum and maximum values"
      ]
    },
    {
      "cell_type": "code",
      "metadata": {
        "colab": {
          "base_uri": "https://localhost:8080/"
        },
        "id": "0lF7uCVqG2My",
        "outputId": "90b1f234-0e84-4699-cf0f-cf5eca256802"
      },
      "source": [
        "x = np.random.random((10,10))\n",
        "print(x)\n",
        "print('Minimum value of the array is: ',x.min())\n",
        "print('Maximum value of the array is: ',x.max())"
      ],
      "execution_count": null,
      "outputs": [
        {
          "output_type": "stream",
          "text": [
            "[[0.72244916 0.3467921  0.74900771 0.03703617 0.52316587 0.72262823\n",
            "  0.42365423 0.61415316 0.82480851 0.5522736 ]\n",
            " [0.1273572  0.09657879 0.52557708 0.23863932 0.77263195 0.10436611\n",
            "  0.44989451 0.99349537 0.19489206 0.99294653]\n",
            " [0.38319727 0.60457786 0.00347197 0.61318497 0.92670466 0.46087431\n",
            "  0.93548741 0.24581587 0.09546181 0.96167831]\n",
            " [0.83712999 0.76287097 0.58239132 0.72144447 0.53945925 0.24682436\n",
            "  0.15449973 0.03420439 0.66837518 0.2867181 ]\n",
            " [0.15424893 0.83190404 0.70160657 0.0668327  0.7329475  0.58485354\n",
            "  0.13866293 0.88787672 0.59123464 0.6766245 ]\n",
            " [0.65973556 0.6741687  0.35505195 0.41669345 0.7542313  0.28820702\n",
            "  0.47422946 0.23356289 0.20768989 0.32986925]\n",
            " [0.38796359 0.55095106 0.62425384 0.55320801 0.87304295 0.13466105\n",
            "  0.04213091 0.23371094 0.79519711 0.9591317 ]\n",
            " [0.97768142 0.09995244 0.56475988 0.18506429 0.45542875 0.00317049\n",
            "  0.58282117 0.79185834 0.03464358 0.79836859]\n",
            " [0.72279471 0.30611311 0.32134976 0.38958734 0.81957804 0.25799167\n",
            "  0.10207552 0.8963771  0.27232551 0.27047863]\n",
            " [0.74027429 0.28387836 0.35753266 0.54767124 0.33200222 0.97879041\n",
            "  0.86360951 0.02876982 0.90424641 0.12937654]]\n",
            "Minimum value of the array is:  0.0031704912031438326\n",
            "Maximum value of the array is:  0.9934953653891595\n"
          ],
          "name": "stdout"
        }
      ]
    },
    {
      "cell_type": "markdown",
      "metadata": {
        "id": "C1JdDcBzHV4j"
      },
      "source": [
        "Q13. Create a random vector of size 30 and find the mean value"
      ]
    },
    {
      "cell_type": "code",
      "metadata": {
        "colab": {
          "base_uri": "https://localhost:8080/"
        },
        "id": "akn7ySUeHb4B",
        "outputId": "7868bd81-c315-4008-ffd6-96c9ddb9d419"
      },
      "source": [
        "x = np.random.random((10))\n",
        "print(x)\n",
        "print('Mean value of the random vector is: ',x.mean())"
      ],
      "execution_count": null,
      "outputs": [
        {
          "output_type": "stream",
          "text": [
            "[0.14716427 0.0469672  0.95270729 0.6818844  0.4278724  0.34337106\n",
            " 0.59689842 0.55348202 0.40528306 0.12569328]\n",
            "Mean value of the random vector is:  0.4281323415116196\n"
          ],
          "name": "stdout"
        }
      ]
    },
    {
      "cell_type": "markdown",
      "metadata": {
        "id": "MgBA8fv9H-JC"
      },
      "source": [
        "Q14. Create a 2d array with 1 on the border and 0 inside"
      ]
    },
    {
      "cell_type": "code",
      "metadata": {
        "colab": {
          "base_uri": "https://localhost:8080/"
        },
        "id": "Mhe0ZZotINCK",
        "outputId": "06fc8a13-f960-42e2-cc65-ca5021d20fce"
      },
      "source": [
        "x = np.ones((7,7))\n",
        "print('Original array: ')\n",
        "print(x)\n",
        "x[1:-1,1:-1]=0\n",
        "print('2d array with 1 on the border and 0 inside: ')\n",
        "print(x)"
      ],
      "execution_count": null,
      "outputs": [
        {
          "output_type": "stream",
          "text": [
            "Original array: \n",
            "[[1. 1. 1. 1. 1. 1. 1.]\n",
            " [1. 1. 1. 1. 1. 1. 1.]\n",
            " [1. 1. 1. 1. 1. 1. 1.]\n",
            " [1. 1. 1. 1. 1. 1. 1.]\n",
            " [1. 1. 1. 1. 1. 1. 1.]\n",
            " [1. 1. 1. 1. 1. 1. 1.]\n",
            " [1. 1. 1. 1. 1. 1. 1.]]\n",
            "2d array with 1 on the border and 0 inside: \n",
            "[[1. 1. 1. 1. 1. 1. 1.]\n",
            " [1. 0. 0. 0. 0. 0. 1.]\n",
            " [1. 0. 0. 0. 0. 0. 1.]\n",
            " [1. 0. 0. 0. 0. 0. 1.]\n",
            " [1. 0. 0. 0. 0. 0. 1.]\n",
            " [1. 0. 0. 0. 0. 0. 1.]\n",
            " [1. 1. 1. 1. 1. 1. 1.]]\n"
          ],
          "name": "stdout"
        }
      ]
    },
    {
      "cell_type": "markdown",
      "metadata": {
        "id": "tCoH4982e9r6"
      },
      "source": [
        "Q15. How to add a border (filled with 0's) around an existing array? "
      ]
    },
    {
      "cell_type": "code",
      "metadata": {
        "colab": {
          "base_uri": "https://localhost:8080/"
        },
        "id": "XCKTR-kDfFY-",
        "outputId": "6184afb7-941c-45f7-ee6a-9b3a48ebe452"
      },
      "source": [
        "x = np.ones((3,3))\n",
        "print(\"Original array:\")\n",
        "print(x)\n",
        "print(\"0 on the border and 1 inside in the array\")\n",
        "x = np.pad(x, pad_width=1, mode='constant', constant_values=0)\n",
        "print(x)"
      ],
      "execution_count": null,
      "outputs": [
        {
          "output_type": "stream",
          "text": [
            "Original array:\n",
            "[[1. 1. 1.]\n",
            " [1. 1. 1.]\n",
            " [1. 1. 1.]]\n",
            "0 on the border and 1 inside in the array\n",
            "[[0. 0. 0. 0. 0.]\n",
            " [0. 1. 1. 1. 0.]\n",
            " [0. 1. 1. 1. 0.]\n",
            " [0. 1. 1. 1. 0.]\n",
            " [0. 0. 0. 0. 0.]]\n"
          ],
          "name": "stdout"
        }
      ]
    },
    {
      "cell_type": "markdown",
      "metadata": {
        "id": "pwV8Xex7f3bU"
      },
      "source": [
        "Q16. How to Accessing/Changing specific elements, rows, columns, etc in Numpy array?\n",
        "\n",
        "Example -\n",
        "[[ 1 2 3 4 5 6 7] [ 8 9 10 11 12 13 14]]\n",
        "\n",
        "Get 13, get first row only, get 3rd column only, get [2, 4, 6], replace 13 by 20"
      ]
    },
    {
      "cell_type": "code",
      "metadata": {
        "colab": {
          "base_uri": "https://localhost:8080/"
        },
        "id": "9jDBOIszoN0o",
        "outputId": "c6556afa-8eae-4b09-86d1-93f6cd213cf3"
      },
      "source": [
        "a = np.arange(1,15).reshape(2,7)\n",
        "print(a)\n",
        "\n",
        "#Get 13\n",
        "print(a[1,5])\n",
        "\n",
        "#Get first row only\n",
        "print(a[0])\n",
        "\n",
        "#Get 3rd column only\n",
        "print(a[:,2])\n",
        "\n",
        "#Get [2,4,6]\n",
        "print([a[0,1],a[0,3],a[0,5]])\n",
        "\n",
        "#Replace 13 by 20\n",
        "a[1,5]=20\n",
        "print(a)"
      ],
      "execution_count": 43,
      "outputs": [
        {
          "output_type": "stream",
          "text": [
            "[[ 1  2  3  4  5  6  7]\n",
            " [ 8  9 10 11 12 13 14]]\n",
            "13\n",
            "[1 2 3 4 5 6 7]\n",
            "[ 3 10]\n",
            "[2, 4, 6]\n",
            "[[ 1  2  3  4  5  6  7]\n",
            " [ 8  9 10 11 12 20 14]]\n"
          ],
          "name": "stdout"
        }
      ]
    },
    {
      "cell_type": "markdown",
      "metadata": {
        "id": "cR_VgnPUs1CG"
      },
      "source": [
        "Q17. How to Convert a 1D array to a 2D array with 2 rows?"
      ]
    },
    {
      "cell_type": "code",
      "metadata": {
        "colab": {
          "base_uri": "https://localhost:8080/"
        },
        "id": "hMY79IQQs5CM",
        "outputId": "fb30d228-0ac2-48da-ffe8-ba9ef55a71c2"
      },
      "source": [
        "a = np.arange(10)\n",
        "print('1D array:')\n",
        "print(a)\n",
        "a = a.reshape(2,5)\n",
        "print('2D array with 2 rows:')\n",
        "print(a)"
      ],
      "execution_count": 54,
      "outputs": [
        {
          "output_type": "stream",
          "text": [
            "1D array:\n",
            "[0 1 2 3 4 5 6 7 8 9]\n",
            "2D array with 2 rows:\n",
            "[[0 1 2 3 4]\n",
            " [5 6 7 8 9]]\n"
          ],
          "name": "stdout"
        }
      ]
    },
    {
      "cell_type": "markdown",
      "metadata": {
        "id": "jtnwm7T-uJM2"
      },
      "source": [
        "Q18. Create the following pattern without hardcoding. Use only numpy functions and the below input array a.\n",
        "\n",
        "Input:\n",
        "\n",
        "a = np.array([1,2,3])\n",
        "\n",
        "Desired Output:\n",
        "\n",
        "array([1, 1, 1, 2, 2, 2, 3, 3, 3, 1, 2, 3, 1, 2, 3, 1, 2, 3])"
      ]
    },
    {
      "cell_type": "code",
      "metadata": {
        "colab": {
          "base_uri": "https://localhost:8080/"
        },
        "id": "Itc0ixYpuPOD",
        "outputId": "ca507346-dc03-4b4d-eeff-144f90d6be4a"
      },
      "source": [
        "a = np.array([1,2,3])\n",
        "np.r_[np.repeat(a, 3), np.tile(a, 3)]"
      ],
      "execution_count": 55,
      "outputs": [
        {
          "output_type": "execute_result",
          "data": {
            "text/plain": [
              "array([1, 1, 1, 2, 2, 2, 3, 3, 3, 1, 2, 3, 1, 2, 3, 1, 2, 3])"
            ]
          },
          "metadata": {
            "tags": []
          },
          "execution_count": 55
        }
      ]
    },
    {
      "cell_type": "markdown",
      "metadata": {
        "id": "tWPfZRSyvAYp"
      },
      "source": [
        "Q19. Write a program to show how Numpy taking less memory compared to Python List?"
      ]
    },
    {
      "cell_type": "code",
      "metadata": {
        "colab": {
          "base_uri": "https://localhost:8080/"
        },
        "id": "h5tlhzkRvHVm",
        "outputId": "97a70097-da4d-4c9e-95dd-769ce0cd0842"
      },
      "source": [
        "import sys\n",
        "\n",
        "l = range(100)\n",
        "print('Size of each element of list in bytes: ',sys.getsizeof(l))\n",
        "print('Size of the whole list in bytes: ',sys.getsizeof(l)*len(l))\n",
        "\n",
        "a = np.arange(100)\n",
        "print('Size of each element in the Numpy array in bytes: ',a.itemsize)\n",
        "print('Size of the whole Numpy array in bites: ',a.itemsize*a.size)"
      ],
      "execution_count": 58,
      "outputs": [
        {
          "output_type": "stream",
          "text": [
            "Size of each element of list in bytes:  48\n",
            "Size of the whole list in bytes:  4800\n",
            "Size of each element in the Numpy array in bytes:  8\n",
            "Size of the whole Numpy array in bites:  800\n"
          ],
          "name": "stdout"
        }
      ]
    },
    {
      "cell_type": "markdown",
      "metadata": {
        "id": "gD3DpMLywyAJ"
      },
      "source": [
        "Q20. Write a program to show how Numpy taking less time compared to Python List?"
      ]
    },
    {
      "cell_type": "code",
      "metadata": {
        "colab": {
          "base_uri": "https://localhost:8080/"
        },
        "id": "wvRWsGwAw43R",
        "outputId": "cb7e5b8c-e683-4b72-d641-656aff0ad73d"
      },
      "source": [
        "import sys\n",
        "import time\n",
        "\n",
        "size = 1000000\n",
        "l1 = range(size)\n",
        "l2 = range(size)\n",
        "\n",
        "n1 = np.arange(size)\n",
        "n2 = np.arange(size)\n",
        "\n",
        "#list\n",
        "start = time.time()\n",
        "result = [(x+y) for x,y in zip(l1,l2)]\n",
        "print('Time taken by lists:')\n",
        "print((time.time()-start)*1000)\n",
        "\n",
        "#numpy array\n",
        "start = time.time()\n",
        "result1 = n1+n2\n",
        "print('Time taken by numpy arrays')\n",
        "print((time.time()-start)*1000)"
      ],
      "execution_count": 61,
      "outputs": [
        {
          "output_type": "stream",
          "text": [
            "Time taken by lists:\n",
            "132.27367401123047\n",
            "Time taken by numpy arrays\n",
            "2.858877182006836\n"
          ],
          "name": "stdout"
        }
      ]
    }
  ]
}